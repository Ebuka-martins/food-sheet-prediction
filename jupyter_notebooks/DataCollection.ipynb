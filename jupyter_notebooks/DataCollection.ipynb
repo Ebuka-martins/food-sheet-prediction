{
  "cells": [
    {
      "cell_type": "markdown",
      "metadata": {
        "id": "0aStgWSO0E0E"
      },
      "source": [
        "# **FOOD SHEET PREDICTION APP - DATA COLECTION**"
      ]
    },
    {
      "cell_type": "markdown",
      "metadata": {
        "id": "1eLEkw5O0ECa"
      },
      "source": [
        "## Objectives\n",
        "\n",
        "* This notebook handles the initial data collection for the Food Balance App using the Kaggle dataset \"Food Balance Sheet Europe.\" We will:\n",
        "- Authenticate with Kaggle using `kaggle.json`.\n",
        "\n",
        "## Inputs\n",
        "\n",
        "* Kaggle JSON file - the authentication token \n",
        "\n",
        "## Outputs\n",
        "\n",
        "- Authenticate with Kaggle using `kaggle.json`.\n",
        "- Download the dataset.\n",
        "- Load and preprocess it using `data_loader.py`.\n",
        "- Save it to `data/food_balance_sheet_europe.csv`.\n",
        "\n",
        "## Additional Comments\n",
        "\n",
        "- Install and import necessary packages.\n",
        "\n"
      ]
    },
    {
      "cell_type": "markdown",
      "metadata": {
        "id": "9uWZXH9LwoQg"
      },
      "source": [
        "---"
      ]
    },
    {
      "cell_type": "markdown",
      "metadata": {
        "id": "cqP-UeN-z3i2"
      },
      "source": [
        "# Import Packages"
      ]
    },
    {
      "cell_type": "markdown",
      "metadata": {},
      "source": [
        "### Install Dependencies"
      ]
    },
    {
      "cell_type": "markdown",
      "metadata": {
        "id": "aOGIGS-uz3i2"
      },
      "source": [
        "We need to change the working directory from its current folder to its parent folder\n",
        "* We access the current directory with os.getcwd()"
      ]
    },
    {
      "cell_type": "code",
      "execution_count": 14,
      "metadata": {
        "id": "wZfF_j-Bz3i4",
        "outputId": "66943449-1436-4c3d-85c7-b85f9f78349b"
      },
      "outputs": [
        {
          "data": {
            "text/plain": [
              "'c:\\\\Users\\\\User\\\\Documents\\\\food sheet prediction\\\\food-sheet-prediction'"
            ]
          },
          "execution_count": 14,
          "metadata": {},
          "output_type": "execute_result"
        }
      ],
      "source": [
        "import os\n",
        "current_dir = os.getcwd()\n",
        "current_dir"
      ]
    },
    {
      "cell_type": "markdown",
      "metadata": {
        "id": "9MWW8E7lz3i7"
      },
      "source": [
        "We want to make the parent of the current directory the new current directory\n",
        "* os.path.dirname() gets the parent directory\n",
        "* os.chir() defines the new current directory"
      ]
    },
    {
      "cell_type": "code",
      "execution_count": 15,
      "metadata": {
        "id": "TwHsQRWjz3i9",
        "outputId": "86849db3-cd2f-4cc5-ebb8-2d0caafa1a2c"
      },
      "outputs": [
        {
          "name": "stdout",
          "output_type": "stream",
          "text": [
            "You set a new current directory\n"
          ]
        }
      ],
      "source": [
        "os.chdir(os.path.dirname(current_dir))\n",
        "print(\"You set a new current directory\")"
      ]
    },
    {
      "cell_type": "markdown",
      "metadata": {
        "id": "M_xPk_Ijz3i-"
      },
      "source": [
        "Confirm the new current directory"
      ]
    },
    {
      "cell_type": "code",
      "execution_count": 16,
      "metadata": {
        "id": "vz3S-_kjz3jA",
        "outputId": "00b79ae4-75d0-4a96-d193-ac9ef9847ea2"
      },
      "outputs": [
        {
          "data": {
            "text/plain": [
              "'c:\\\\Users\\\\User\\\\Documents\\\\food sheet prediction'"
            ]
          },
          "execution_count": 16,
          "metadata": {},
          "output_type": "execute_result"
        }
      ],
      "source": [
        "current_dir = os.getcwd()\n",
        "current_dir"
      ]
    },
    {
      "cell_type": "markdown",
      "metadata": {
        "id": "-mavJ8DibrcQ"
      },
      "source": [
        "# Import Packages"
      ]
    },
    {
      "cell_type": "markdown",
      "metadata": {},
      "source": [
        "### Install Packages"
      ]
    },
    {
      "cell_type": "code",
      "execution_count": 7,
      "metadata": {},
      "outputs": [
        {
          "name": "stdout",
          "output_type": "stream",
          "text": [
            "Requirement already satisfied: kaggle in c:\\users\\user\\documents\\food sheet prediction\\food-sheet-prediction\\.venv\\lib\\site-packages (1.7.4.2)\n",
            "Requirement already satisfied: pandas in c:\\users\\user\\documents\\food sheet prediction\\food-sheet-prediction\\.venv\\lib\\site-packages (2.1.1)\n",
            "Requirement already satisfied: bleach in c:\\users\\user\\documents\\food sheet prediction\\food-sheet-prediction\\.venv\\lib\\site-packages (from kaggle) (6.2.0)\n",
            "Requirement already satisfied: certifi>=14.05.14 in c:\\users\\user\\documents\\food sheet prediction\\food-sheet-prediction\\.venv\\lib\\site-packages (from kaggle) (2025.1.31)\n",
            "Requirement already satisfied: charset-normalizer in c:\\users\\user\\documents\\food sheet prediction\\food-sheet-prediction\\.venv\\lib\\site-packages (from kaggle) (3.4.1)\n",
            "Requirement already satisfied: idna in c:\\users\\user\\documents\\food sheet prediction\\food-sheet-prediction\\.venv\\lib\\site-packages (from kaggle) (3.10)\n",
            "Requirement already satisfied: protobuf in c:\\users\\user\\documents\\food sheet prediction\\food-sheet-prediction\\.venv\\lib\\site-packages (from kaggle) (4.25.6)\n",
            "Requirement already satisfied: python-dateutil>=2.5.3 in c:\\users\\user\\documents\\food sheet prediction\\food-sheet-prediction\\.venv\\lib\\site-packages (from kaggle) (2.9.0.post0)\n",
            "Requirement already satisfied: python-slugify in c:\\users\\user\\documents\\food sheet prediction\\food-sheet-prediction\\.venv\\lib\\site-packages (from kaggle) (8.0.4)\n",
            "Requirement already satisfied: requests in c:\\users\\user\\documents\\food sheet prediction\\food-sheet-prediction\\.venv\\lib\\site-packages (from kaggle) (2.32.3)\n",
            "Requirement already satisfied: setuptools>=21.0.0 in c:\\users\\user\\documents\\food sheet prediction\\food-sheet-prediction\\.venv\\lib\\site-packages (from kaggle) (78.1.0)\n",
            "Requirement already satisfied: six>=1.10 in c:\\users\\user\\documents\\food sheet prediction\\food-sheet-prediction\\.venv\\lib\\site-packages (from kaggle) (1.17.0)\n",
            "Requirement already satisfied: text-unidecode in c:\\users\\user\\documents\\food sheet prediction\\food-sheet-prediction\\.venv\\lib\\site-packages (from kaggle) (1.3)\n",
            "Requirement already satisfied: tqdm in c:\\users\\user\\documents\\food sheet prediction\\food-sheet-prediction\\.venv\\lib\\site-packages (from kaggle) (4.67.1)\n",
            "Requirement already satisfied: urllib3>=1.15.1 in c:\\users\\user\\documents\\food sheet prediction\\food-sheet-prediction\\.venv\\lib\\site-packages (from kaggle) (2.4.0)\n",
            "Requirement already satisfied: webencodings in c:\\users\\user\\documents\\food sheet prediction\\food-sheet-prediction\\.venv\\lib\\site-packages (from kaggle) (0.5.1)\n",
            "Requirement already satisfied: numpy>=1.26.0 in c:\\users\\user\\documents\\food sheet prediction\\food-sheet-prediction\\.venv\\lib\\site-packages (from pandas) (1.26.1)\n",
            "Requirement already satisfied: pytz>=2020.1 in c:\\users\\user\\documents\\food sheet prediction\\food-sheet-prediction\\.venv\\lib\\site-packages (from pandas) (2025.2)\n",
            "Requirement already satisfied: tzdata>=2022.1 in c:\\users\\user\\documents\\food sheet prediction\\food-sheet-prediction\\.venv\\lib\\site-packages (from pandas) (2025.2)\n",
            "Requirement already satisfied: colorama in c:\\users\\user\\documents\\food sheet prediction\\food-sheet-prediction\\.venv\\lib\\site-packages (from tqdm->kaggle) (0.4.6)\n"
          ]
        },
        {
          "name": "stderr",
          "output_type": "stream",
          "text": [
            "\n",
            "[notice] A new release of pip is available: 24.3.1 -> 25.0.1\n",
            "[notice] To update, run: python.exe -m pip install --upgrade pip\n"
          ]
        }
      ],
      "source": [
        "!pip install kaggle pandas"
      ]
    },
    {
      "cell_type": "markdown",
      "metadata": {},
      "source": [
        "### Import libraries and set up paths"
      ]
    },
    {
      "cell_type": "code",
      "execution_count": 23,
      "metadata": {},
      "outputs": [
        {
          "name": "stdout",
          "output_type": "stream",
          "text": [
            "Dataset URL: https://www.kaggle.com/datasets/cameronappel/food-balance-sheet-europe\n",
            "✅ Dataset downloaded and extracted to: C:\\Users\\User\\Documents\\food sheet prediction\\food-sheet-prediction\\data\\input\n",
            "Files in input_dir: ['FAOSTAT_data_10-23-2018.csv']\n",
            "\n",
            "Dataset Preview:\n",
            "  Domain Code               Domain  Country Code Country  Element Code  \\\n",
            "0         FBS  Food Balance Sheets          5400  Europe           511   \n",
            "1         FBS  Food Balance Sheets          5400  Europe          5511   \n",
            "2         FBS  Food Balance Sheets          5400  Europe          5611   \n",
            "3         FBS  Food Balance Sheets          5400  Europe          5072   \n",
            "4         FBS  Food Balance Sheets          5400  Europe          5911   \n",
            "\n",
            "                         Element  Item Code                Item  Year Code  \\\n",
            "0  Total Population - Both sexes       2501          Population       2013   \n",
            "1                     Production       2511  Wheat and products       2013   \n",
            "2                Import Quantity       2511  Wheat and products       2013   \n",
            "3                Stock Variation       2511  Wheat and products       2013   \n",
            "4                Export Quantity       2511  Wheat and products       2013   \n",
            "\n",
            "   Year          Unit     Value Flag  \\\n",
            "0  2013  1000 persons  742186.0    A   \n",
            "1  2013   1000 tonnes  226089.0    A   \n",
            "2  2013   1000 tonnes   45338.0    A   \n",
            "3  2013   1000 tonnes   -4775.0    A   \n",
            "4  2013   1000 tonnes   91363.0    A   \n",
            "\n",
            "                                    Flag Description  \n",
            "0  Aggregate, may include official, semi-official...  \n",
            "1  Aggregate, may include official, semi-official...  \n",
            "2  Aggregate, may include official, semi-official...  \n",
            "3  Aggregate, may include official, semi-official...  \n",
            "4  Aggregate, may include official, semi-official...  \n"
          ]
        }
      ],
      "source": [
        "import os\n",
        "import sys\n",
        "import json\n",
        "from pathlib import Path\n",
        "from kaggle.api.kaggle_api_extended import KaggleApi\n",
        "import pandas as pd  \n",
        "\n",
        "\n",
        "# Define project and data paths\n",
        "project_root = Path(r\"C:\\Users\\User\\Documents\\food sheet prediction\\food-sheet-prediction\")\n",
        "data_dir = project_root / 'data'\n",
        "input_dir = data_dir / 'input'\n",
        "input_dir.mkdir(parents=True, exist_ok=True)  \n",
        "\n",
        "# Add project root to Python path\n",
        "if str(project_root) not in sys.path:\n",
        "    sys.path.append(str(project_root))\n",
        "\n",
        "# Load Kaggle credentials\n",
        "kaggle_json_path = data_dir / 'kaggle.json'\n",
        "assert kaggle_json_path.exists(), f\"Please place kaggle.json in {data_dir}\"\n",
        "\n",
        "with open(kaggle_json_path) as f:\n",
        "    creds = json.load(f)\n",
        "\n",
        "os.environ['KAGGLE_USERNAME'] = creds['username']\n",
        "os.environ['KAGGLE_KEY'] = creds['key']\n",
        "\n",
        "# Authenticate with Kaggle\n",
        "api = KaggleApi()\n",
        "api.authenticate()\n",
        "\n",
        "# Download the dataset\n",
        "dataset = \"cameronappel/food-balance-sheet-europe\"\n",
        "api.dataset_download_files(dataset, path=str(input_dir), unzip=True)\n",
        "\n",
        "print(f\"✅ Dataset downloaded and extracted to: {input_dir}\")\n",
        "\n",
        "print(\"Files in input_dir:\", [f.name for f in input_dir.iterdir()])\n",
        "\n",
        "\n",
        "csv_files = list(input_dir.glob(\"*.csv\"))  \n",
        "if csv_files:\n",
        "    \n",
        "    df = pd.read_csv(csv_files[0])\n",
        "    print(\"\\nDataset Preview:\")\n",
        "    print(df.head())  \n",
        "else:\n",
        "    print(\"No CSV files found in the dataset.\")"
      ]
    },
    {
      "cell_type": "code",
      "execution_count": 24,
      "metadata": {},
      "outputs": [
        {
          "name": "stdout",
          "output_type": "stream",
          "text": [
            "[WindowsPath('C:/Users/User/Documents/food sheet prediction/food-sheet-prediction/data/input/FAOSTAT_data_10-23-2018.csv')]\n"
          ]
        }
      ],
      "source": [
        "from pathlib import Path\n",
        "\n",
        "input_dir = Path(r\"C:\\Users\\User\\Documents\\food sheet prediction\\food-sheet-prediction\\data\\input\")\n",
        "print(list(input_dir.glob(\"*.csv\")))\n"
      ]
    },
    {
      "cell_type": "markdown",
      "metadata": {},
      "source": [
        "### Download Dataset"
      ]
    },
    {
      "cell_type": "code",
      "execution_count": 19,
      "metadata": {},
      "outputs": [
        {
          "name": "stdout",
          "output_type": "stream",
          "text": [
            "Dataset URL: https://www.kaggle.com/datasets/cameronappel/food-balance-sheet-europe\n",
            "Downloaded files: [WindowsPath('C:/Users/User/Documents/food sheet prediction/food-sheet-prediction/data/FAOSTAT_data_10-23-2018.csv'), WindowsPath('C:/Users/User/Documents/food sheet prediction/food-sheet-prediction/data/food_balance_sheet_preprocessed.csv')]\n"
          ]
        }
      ],
      "source": [
        "# Dataset identifier on Kaggle\n",
        "dataset = \"cameronappel/food-balance-sheet-europe\"\n",
        "\n",
        "# Make sure data directory exists\n",
        "os.makedirs(data_dir, exist_ok=True)\n",
        "\n",
        "# Download and unzip the dataset\n",
        "api.dataset_download_files(dataset, path=data_dir, unzip=True)\n",
        "\n",
        "# List downloaded CSVs\n",
        "downloaded_files = list(data_dir.glob('*.csv'))\n",
        "print(\"Downloaded files:\", downloaded_files)\n"
      ]
    },
    {
      "cell_type": "code",
      "execution_count": 28,
      "metadata": {},
      "outputs": [
        {
          "name": "stdout",
          "output_type": "stream",
          "text": [
            "💾 Cleaned dataset saved to: C:\\Users\\User\\Documents\\food sheet prediction\\food-sheet-prediction\\data\\food_balance_sheet_europe.csv\n"
          ]
        }
      ],
      "source": [
        "# Optional: Save cleaned version to /data folder\n",
        "cleaned_output = data_dir / \"food_balance_sheet_europe.csv\"\n",
        "df.to_csv(cleaned_output, index=False)\n",
        "print(f\"💾 Cleaned dataset saved to: {cleaned_output}\")\n"
      ]
    },
    {
      "cell_type": "markdown",
      "metadata": {},
      "source": [
        "### Preprocess, and Inspect Dataset"
      ]
    },
    {
      "cell_type": "code",
      "execution_count": null,
      "metadata": {},
      "outputs": [
        {
          "name": "stdout",
          "output_type": "stream",
          "text": [
            "📂 Loading file: FAOSTAT_data_10-23-2018.csv\n",
            "✅ Dataset loaded and preprocessed.\n",
            "🔢 Shape: (1214, 14)\n",
            "\n",
            "🧱 Columns: ['Domain Code', 'Domain', 'Country Code', 'Country', 'Element Code', 'Element', 'Item Code', 'Item', 'Year Code', 'Year', 'Unit', 'Value', 'Flag', 'Flag Description']\n"
          ]
        },
        {
          "data": {
            "text/html": [
              "<div>\n",
              "<style scoped>\n",
              "    .dataframe tbody tr th:only-of-type {\n",
              "        vertical-align: middle;\n",
              "    }\n",
              "\n",
              "    .dataframe tbody tr th {\n",
              "        vertical-align: top;\n",
              "    }\n",
              "\n",
              "    .dataframe thead th {\n",
              "        text-align: right;\n",
              "    }\n",
              "</style>\n",
              "<table border=\"1\" class=\"dataframe\">\n",
              "  <thead>\n",
              "    <tr style=\"text-align: right;\">\n",
              "      <th></th>\n",
              "      <th>Domain Code</th>\n",
              "      <th>Domain</th>\n",
              "      <th>Country Code</th>\n",
              "      <th>Country</th>\n",
              "      <th>Element Code</th>\n",
              "      <th>Element</th>\n",
              "      <th>Item Code</th>\n",
              "      <th>Item</th>\n",
              "      <th>Year Code</th>\n",
              "      <th>Year</th>\n",
              "      <th>Unit</th>\n",
              "      <th>Value</th>\n",
              "      <th>Flag</th>\n",
              "      <th>Flag Description</th>\n",
              "    </tr>\n",
              "  </thead>\n",
              "  <tbody>\n",
              "    <tr>\n",
              "      <th>0</th>\n",
              "      <td>FBS</td>\n",
              "      <td>Food Balance Sheets</td>\n",
              "      <td>5400</td>\n",
              "      <td>Europe</td>\n",
              "      <td>511</td>\n",
              "      <td>Total Population - Both sexes</td>\n",
              "      <td>2501</td>\n",
              "      <td>Population</td>\n",
              "      <td>2013</td>\n",
              "      <td>2013</td>\n",
              "      <td>1000 persons</td>\n",
              "      <td>742186.0</td>\n",
              "      <td>A</td>\n",
              "      <td>Aggregate, may include official, semi-official...</td>\n",
              "    </tr>\n",
              "    <tr>\n",
              "      <th>1</th>\n",
              "      <td>FBS</td>\n",
              "      <td>Food Balance Sheets</td>\n",
              "      <td>5400</td>\n",
              "      <td>Europe</td>\n",
              "      <td>5511</td>\n",
              "      <td>Production</td>\n",
              "      <td>2511</td>\n",
              "      <td>Wheat and products</td>\n",
              "      <td>2013</td>\n",
              "      <td>2013</td>\n",
              "      <td>1000 tonnes</td>\n",
              "      <td>226089.0</td>\n",
              "      <td>A</td>\n",
              "      <td>Aggregate, may include official, semi-official...</td>\n",
              "    </tr>\n",
              "    <tr>\n",
              "      <th>2</th>\n",
              "      <td>FBS</td>\n",
              "      <td>Food Balance Sheets</td>\n",
              "      <td>5400</td>\n",
              "      <td>Europe</td>\n",
              "      <td>5611</td>\n",
              "      <td>Import Quantity</td>\n",
              "      <td>2511</td>\n",
              "      <td>Wheat and products</td>\n",
              "      <td>2013</td>\n",
              "      <td>2013</td>\n",
              "      <td>1000 tonnes</td>\n",
              "      <td>45338.0</td>\n",
              "      <td>A</td>\n",
              "      <td>Aggregate, may include official, semi-official...</td>\n",
              "    </tr>\n",
              "    <tr>\n",
              "      <th>3</th>\n",
              "      <td>FBS</td>\n",
              "      <td>Food Balance Sheets</td>\n",
              "      <td>5400</td>\n",
              "      <td>Europe</td>\n",
              "      <td>5072</td>\n",
              "      <td>Stock Variation</td>\n",
              "      <td>2511</td>\n",
              "      <td>Wheat and products</td>\n",
              "      <td>2013</td>\n",
              "      <td>2013</td>\n",
              "      <td>1000 tonnes</td>\n",
              "      <td>-4775.0</td>\n",
              "      <td>A</td>\n",
              "      <td>Aggregate, may include official, semi-official...</td>\n",
              "    </tr>\n",
              "    <tr>\n",
              "      <th>4</th>\n",
              "      <td>FBS</td>\n",
              "      <td>Food Balance Sheets</td>\n",
              "      <td>5400</td>\n",
              "      <td>Europe</td>\n",
              "      <td>5911</td>\n",
              "      <td>Export Quantity</td>\n",
              "      <td>2511</td>\n",
              "      <td>Wheat and products</td>\n",
              "      <td>2013</td>\n",
              "      <td>2013</td>\n",
              "      <td>1000 tonnes</td>\n",
              "      <td>91363.0</td>\n",
              "      <td>A</td>\n",
              "      <td>Aggregate, may include official, semi-official...</td>\n",
              "    </tr>\n",
              "  </tbody>\n",
              "</table>\n",
              "</div>"
            ],
            "text/plain": [
              "  Domain Code               Domain  Country Code Country  Element Code  \\\n",
              "0         FBS  Food Balance Sheets          5400  Europe           511   \n",
              "1         FBS  Food Balance Sheets          5400  Europe          5511   \n",
              "2         FBS  Food Balance Sheets          5400  Europe          5611   \n",
              "3         FBS  Food Balance Sheets          5400  Europe          5072   \n",
              "4         FBS  Food Balance Sheets          5400  Europe          5911   \n",
              "\n",
              "                         Element  Item Code                Item  Year Code  \\\n",
              "0  Total Population - Both sexes       2501          Population       2013   \n",
              "1                     Production       2511  Wheat and products       2013   \n",
              "2                Import Quantity       2511  Wheat and products       2013   \n",
              "3                Stock Variation       2511  Wheat and products       2013   \n",
              "4                Export Quantity       2511  Wheat and products       2013   \n",
              "\n",
              "   Year          Unit     Value Flag  \\\n",
              "0  2013  1000 persons  742186.0    A   \n",
              "1  2013   1000 tonnes  226089.0    A   \n",
              "2  2013   1000 tonnes   45338.0    A   \n",
              "3  2013   1000 tonnes   -4775.0    A   \n",
              "4  2013   1000 tonnes   91363.0    A   \n",
              "\n",
              "                                    Flag Description  \n",
              "0  Aggregate, may include official, semi-official...  \n",
              "1  Aggregate, may include official, semi-official...  \n",
              "2  Aggregate, may include official, semi-official...  \n",
              "3  Aggregate, may include official, semi-official...  \n",
              "4  Aggregate, may include official, semi-official...  "
            ]
          },
          "execution_count": 27,
          "metadata": {},
          "output_type": "execute_result"
        }
      ],
      "source": [
        "# Cell 4: Load, preprocess, and inspect the dataset\n",
        "\n",
        "# Locate the CSV file in the input directory\n",
        "csv_files = list(input_dir.glob(\"*.csv\"))\n",
        "if not csv_files:\n",
        "    raise FileNotFoundError(f\"No CSV files found in {input_dir}\")\n",
        "    \n",
        "input_file = csv_files[0]\n",
        "print(f\"📂 Loading file: {input_file.name}\")\n",
        "\n",
        "# Load the dataset\n",
        "df = pd.read_csv(input_file)\n",
        "\n",
        "# Basic preprocessing\n",
        "df.dropna(how='all', axis=1, inplace=True)  \n",
        "df.dropna(how='all', axis=0, inplace=True)  \n",
        "df.columns = df.columns.str.strip()         \n",
        "\n",
        "# Show dataset info\n",
        "print(\"✅ Dataset loaded and preprocessed.\")\n",
        "print(\"🔢 Shape:\", df.shape)\n",
        "print(\"\\n🧱 Columns:\", df.columns.tolist())\n",
        "df.head()\n"
      ]
    },
    {
      "cell_type": "markdown",
      "metadata": {},
      "source": [
        "## Save Dataset"
      ]
    },
    {
      "cell_type": "code",
      "execution_count": 29,
      "metadata": {},
      "outputs": [
        {
          "name": "stdout",
          "output_type": "stream",
          "text": [
            "✅ Preprocessed dataset saved to: C:\\Users\\User\\Documents\\food sheet prediction\\food-sheet-prediction\\data\\food_balance_sheet_preprocessed.csv\n"
          ]
        }
      ],
      "source": [
        "# Cell 8: Save the preprocessed dataset\n",
        "# Define output file name and path\n",
        "output_filename = 'food_balance_sheet_preprocessed.csv'\n",
        "output_path = data_dir / output_filename\n",
        "\n",
        "# Save the DataFrame to CSV\n",
        "df.to_csv(output_path, index=False)\n",
        "print(f\"✅ Preprocessed dataset saved to: {output_path}\")\n"
      ]
    },
    {
      "cell_type": "markdown",
      "metadata": {
        "id": "ZY3l0-AxO93d"
      },
      "source": [
        "---"
      ]
    },
    {
      "cell_type": "markdown",
      "metadata": {
        "id": "uFQo3ycuO-v6"
      },
      "source": [
        "# Section 2"
      ]
    },
    {
      "cell_type": "markdown",
      "metadata": {},
      "source": [
        "Section 2 content\n",
        "### Notes\n",
        "- The dataset is now saved in `data/food_balance_sheet_europe.csv`.\n",
        "- We used `load_and_preprocess_data` to ensure consistency with the app's preprocessing.\n",
        "- Next steps: Explore the data in `DataVisualisation.ipynb`."
      ]
    },
    {
      "cell_type": "markdown",
      "metadata": {},
      "source": [
        "---"
      ]
    },
    {
      "cell_type": "markdown",
      "metadata": {
        "id": "ltNetd085qHf"
      },
      "source": [
        "# Push files to Repo"
      ]
    },
    {
      "cell_type": "markdown",
      "metadata": {},
      "source": [
        "* If you don't need to push files to Repo, you may replace this section with \"Conclusions and Next Steps\" and state your conclusions and next steps."
      ]
    },
    {
      "cell_type": "markdown",
      "metadata": {},
      "source": [
        "\n",
        "### Push Generated/new files from this section to your Github Repo\n",
        "\n",
        "- ### gitignore"
      ]
    },
    {
      "cell_type": "markdown",
      "metadata": {},
      "source": [
        "```gitignore\n",
        "core.Microsoft*\n",
        "core.mongo*\n",
        "core.python*\n",
        "env.py\n",
        "__pycache__/\n",
        "*.py[cod]\n",
        "node_modules/\n",
        ".github/\n",
        "cloudinary_python.txt\n",
        "kaggle.json\n",
        "```"
      ]
    },
    {
      "cell_type": "code",
      "execution_count": 15,
      "metadata": {
        "id": "aKlnIozA4eQO",
        "outputId": "fd09bc1f-adb1-4511-f6ce-492a6af570c0"
      },
      "outputs": [
        {
          "name": "stdout",
          "output_type": "stream",
          "text": [
            "✅ Folder 'outputs' created (or already exists).\n"
          ]
        }
      ],
      "source": [
        "import os\n",
        "\n",
        "try:\n",
        "    folder_name = 'outputs'  \n",
        "    os.makedirs(folder_name, exist_ok=True)\n",
        "    print(f\"✅ Folder '{folder_name}' created (or already exists).\")\n",
        "except Exception as e:\n",
        "    print(f\"❌ Error: {e}\")\n"
      ]
    }
  ],
  "metadata": {
    "accelerator": "GPU",
    "colab": {
      "name": "Data Practitioner Jupyter Notebook.ipynb",
      "provenance": [],
      "toc_visible": true
    },
    "kernelspec": {
      "display_name": ".venv",
      "language": "python",
      "name": "python3"
    },
    "language_info": {
      "codemirror_mode": {
        "name": "ipython",
        "version": 3
      },
      "file_extension": ".py",
      "mimetype": "text/x-python",
      "name": "python",
      "nbconvert_exporter": "python",
      "pygments_lexer": "ipython3",
      "version": "3.12.8"
    },
    "orig_nbformat": 2
  },
  "nbformat": 4,
  "nbformat_minor": 2
}
